{
  "cells": [
    {
      "cell_type": "markdown",
      "metadata": {
        "id": "wSwRYrWB24va"
      },
      "source": [
        "---\n",
        "## Entrenamiento del modelo\n",
        "\n",
        "Gran parte del codigo ejecutado en esta seccion se tomo de [Tutorial entrenamiento de Bert Fine Tuning](https://www.tensorflow.org/tfmodels/nlp/fine_tune_bert) el cual presenta el instructivo de entrenamiento de un modelo BERT, para este caso se ajustaron los datos y se configuraron parametros para el correcto funcionamiento del modelo\n",
        "\n",
        "\n",
        "---"
      ]
    },
    {
      "cell_type": "code",
      "execution_count": null,
      "metadata": {
        "colab": {
          "base_uri": "https://localhost:8080/"
        },
        "id": "D7HAqdSFdawS",
        "outputId": "0057868c-6734-4db8-fdad-fd0398027f03"
      },
      "outputs": [
        {
          "output_type": "stream",
          "name": "stdout",
          "text": [
            "Mounted at /content/drive\n"
          ]
        }
      ],
      "source": [
        "#Connecting to the drive\n",
        "from google.colab import drive\n",
        "drive.mount('/content/drive')"
      ]
    },
    {
      "cell_type": "code",
      "execution_count": null,
      "metadata": {
        "colab": {
          "base_uri": "https://localhost:8080/"
        },
        "id": "QcMKXAc32ofo",
        "outputId": "73819334-5a87-48a4-fcb1-899022490fa0"
      },
      "outputs": [
        {
          "output_type": "stream",
          "name": "stdout",
          "text": [
            "/content/drive/Shareddrives/PRUEBAS_BANCOLOMBIA_SMITH/Prueba practica\n",
            "/content/drive/Shareddrives/PRUEBAS_BANCOLOMBIA_SMITH/Prueba practica\n"
          ]
        }
      ],
      "source": [
        "#Current path\n",
        "%cd /content/drive/Shareddrives/PRUEBAS_BANCOLOMBIA_SMITH/Prueba practica\n",
        "!pwd"
      ]
    },
    {
      "cell_type": "code",
      "execution_count": null,
      "metadata": {
        "colab": {
          "base_uri": "https://localhost:8080/"
        },
        "id": "vU3kBSm-Xhn3",
        "outputId": "3e6bea25-bbf3-429f-8000-b407e109495e"
      },
      "outputs": [
        {
          "output_type": "stream",
          "name": "stdout",
          "text": [
            " dataset\t\t ds_format_beto.zip   files\t\t      requeriments.txt\n",
            " diplomacy_format_beto\t dyplomacy_bert      'Prueba Practica.docx'\n"
          ]
        }
      ],
      "source": [
        "!ls"
      ]
    },
    {
      "cell_type": "code",
      "execution_count": null,
      "metadata": {
        "id": "wKbu8KXIX2zq"
      },
      "outputs": [],
      "source": [
        "#import jsonlines\n",
        "import pandas as  pd\n",
        "import matplotlib.pyplot as plt\n",
        "import seaborn as sns"
      ]
    },
    {
      "cell_type": "code",
      "execution_count": null,
      "metadata": {
        "id": "9A8ExMHLSko3"
      },
      "outputs": [],
      "source": [
        "#!unzip ./dataset/diplomacy_format_beto.zip"
      ]
    },
    {
      "cell_type": "code",
      "execution_count": null,
      "metadata": {
        "colab": {
          "base_uri": "https://localhost:8080/"
        },
        "id": "q-YbjCkzw0yU",
        "outputId": "d78f8fc9-29a0-4512-e380-aab1bb5a9d01"
      },
      "outputs": [
        {
          "output_type": "stream",
          "name": "stdout",
          "text": [
            "\u001b[2K     \u001b[90m━━━━━━━━━━━━━━━━━━━━━━━━━━━━━━━━━━━━━━━━\u001b[0m \u001b[32m6.5/6.5 MB\u001b[0m \u001b[31m16.3 MB/s\u001b[0m eta \u001b[36m0:00:00\u001b[0m\n",
            "\u001b[2K     \u001b[90m━━━━━━━━━━━━━━━━━━━━━━━━━━━━━━━━━━━━━━━━\u001b[0m \u001b[32m479.7/479.7 MB\u001b[0m \u001b[31m1.2 MB/s\u001b[0m eta \u001b[36m0:00:00\u001b[0m\n",
            "\u001b[2K     \u001b[90m━━━━━━━━━━━━━━━━━━━━━━━━━━━━━━━━━━━━━━━━\u001b[0m \u001b[32m1.7/1.7 MB\u001b[0m \u001b[31m85.4 MB/s\u001b[0m eta \u001b[36m0:00:00\u001b[0m\n",
            "\u001b[2K     \u001b[90m━━━━━━━━━━━━━━━━━━━━━━━━━━━━━━━━━━━━━━━━\u001b[0m \u001b[32m5.6/5.6 MB\u001b[0m \u001b[31m101.4 MB/s\u001b[0m eta \u001b[36m0:00:00\u001b[0m\n",
            "\u001b[2K     \u001b[90m━━━━━━━━━━━━━━━━━━━━━━━━━━━━━━━━━━━━━━━━\u001b[0m \u001b[32m440.8/440.8 kB\u001b[0m \u001b[31m43.3 MB/s\u001b[0m eta \u001b[36m0:00:00\u001b[0m\n",
            "\u001b[2K     \u001b[90m━━━━━━━━━━━━━━━━━━━━━━━━━━━━━━━━━━━━━━━━\u001b[0m \u001b[32m2.6/2.6 MB\u001b[0m \u001b[31m15.3 MB/s\u001b[0m eta \u001b[36m0:00:00\u001b[0m\n",
            "\u001b[2K     \u001b[90m━━━━━━━━━━━━━━━━━━━━━━━━━━━━━━━━━━━━━━━━\u001b[0m \u001b[32m106.3/106.3 kB\u001b[0m \u001b[31m14.9 MB/s\u001b[0m eta \u001b[36m0:00:00\u001b[0m\n",
            "\u001b[2K     \u001b[90m━━━━━━━━━━━━━━━━━━━━━━━━━━━━━━━━━━━━━━━━\u001b[0m \u001b[32m1.3/1.3 MB\u001b[0m \u001b[31m6.6 MB/s\u001b[0m eta \u001b[36m0:00:00\u001b[0m\n",
            "\u001b[2K     \u001b[90m━━━━━━━━━━━━━━━━━━━━━━━━━━━━━━━━━━━━━━━━\u001b[0m \u001b[32m43.6/43.6 kB\u001b[0m \u001b[31m5.4 MB/s\u001b[0m eta \u001b[36m0:00:00\u001b[0m\n",
            "\u001b[?25h  Preparing metadata (setup.py) ... \u001b[?25l\u001b[?25hdone\n",
            "\u001b[2K     \u001b[90m━━━━━━━━━━━━━━━━━━━━━━━━━━━━━━━━━━━━━━━━\u001b[0m \u001b[32m241.2/241.2 kB\u001b[0m \u001b[31m21.2 MB/s\u001b[0m eta \u001b[36m0:00:00\u001b[0m\n",
            "\u001b[?25h  Building wheel for seqeval (setup.py) ... \u001b[?25l\u001b[?25hdone\n"
          ]
        }
      ],
      "source": [
        "# A dependency of the preprocessing for BERT inputs\n",
        "!pip install -U \"tensorflow-text==2.13.*\" -q\n",
        "!pip install \"tf-models-official==2.13.*\" -q"
      ]
    },
    {
      "cell_type": "markdown",
      "metadata": {
        "id": "MqmtazI78lwU"
      },
      "source": [
        "---\n",
        "**Importing the required libraries**\n",
        "\n",
        "\n",
        "---"
      ]
    },
    {
      "cell_type": "code",
      "execution_count": null,
      "metadata": {
        "id": "_XgTpm9ZxoN9"
      },
      "outputs": [],
      "source": [
        "import os\n",
        "import shutil\n",
        "\n",
        "import tensorflow as tf\n",
        "import tensorflow_hub as hub\n",
        "import tensorflow_text as text\n",
        "from official.nlp import optimization  # to create AdamW optimizer\n",
        "\n",
        "tf.get_logger().setLevel('ERROR')"
      ]
    },
    {
      "cell_type": "markdown",
      "metadata": {
        "id": "DYaxKgX4KiCP"
      },
      "source": [
        "---\n",
        "\n",
        "### Carga de los datos\n",
        "\n",
        "Luego de tener el paso de **1.Preprocesamiento.ipynb**  tendremos en la carpeta **diplomacy_format_beto** el dataset listo para ser inyectado en el entrenamiento de la forma:\n",
        "\n",
        "```\n",
        "train\n",
        "  - True\n",
        "  - False\n",
        "test\n",
        "  - True\n",
        "  - False\n",
        "validation\n",
        "  - True\n",
        "  - False\n",
        "```\n",
        "\n",
        "Donde True corresponde a los textos que son considerados verdaderos, y False los textos Falsos.\n",
        "\n",
        "Para facilitar la carga de los datos usaremos la recomendacion del tutorial con el objeto 'text_dataset_from_directory' de esta forma se generan los tensores listos para cada una de las etapas.\n",
        "\n",
        "---\n"
      ]
    },
    {
      "cell_type": "code",
      "execution_count": null,
      "metadata": {
        "colab": {
          "base_uri": "https://localhost:8080/"
        },
        "id": "6IwI_2bcIeX8",
        "outputId": "474839b1-2c78-431b-d841-55842dec9f11"
      },
      "outputs": [
        {
          "output_type": "stream",
          "name": "stdout",
          "text": [
            "Found 10247 files belonging to 2 classes.\n",
            "Found 1363 files belonging to 2 classes.\n",
            "Found 2741 files belonging to 2 classes.\n"
          ]
        }
      ],
      "source": [
        "AUTOTUNE = tf.data.AUTOTUNE\n",
        "batch_size = 32\n",
        "seed = 42\n",
        "\n",
        "raw_train_ds = tf.keras.utils.text_dataset_from_directory(\n",
        "    'diplomacy_format_beto/train',\n",
        "    batch_size=batch_size,\n",
        "    seed=seed)\n",
        "\n",
        "class_names = raw_train_ds.class_names\n",
        "train_ds = raw_train_ds.cache().prefetch(buffer_size=AUTOTUNE)\n",
        "\n",
        "val_ds = tf.keras.utils.text_dataset_from_directory(\n",
        "    'diplomacy_format_beto/validation',\n",
        "    batch_size=batch_size,\n",
        "    seed=seed)\n",
        "\n",
        "val_ds = val_ds.cache().prefetch(buffer_size=AUTOTUNE)\n",
        "\n",
        "test_ds = tf.keras.utils.text_dataset_from_directory(\n",
        "    'diplomacy_format_beto/test',\n",
        "    batch_size=batch_size)\n",
        "\n",
        "test_ds = test_ds.cache().prefetch(buffer_size=AUTOTUNE)\n"
      ]
    },
    {
      "cell_type": "markdown",
      "source": [
        "---\n",
        "### Balanceo de las clases\n",
        "\n",
        "Tanto en el paso de procesamiento como en el papper [ACL’20 paper (Peskov et al.).](https://users.umiacs.umd.edu/~jbg/docs/2020_acl_diplomacy.pdf) se puede ver que el dataset esta desbalanceado por lo tanto en las primeras pruebas del entrenamiento aunque la metrica del \"val_binary_accuracy\" era alta es debido a que todos los datos eran enviados por la clase verdadera, lo cual generaba un modelo con una metrica de accuracy alta pero incpaz de reconocer textos que eran mentira.\n",
        "\n",
        "Por lo tanto fue necesario balancear las clases indicando a el entrenamiento que prestara mayor atencion a los datos de los textos que son mentira\n",
        "\n",
        "\n",
        "---"
      ],
      "metadata": {
        "id": "i6CqE4UT17Dh"
      }
    },
    {
      "cell_type": "code",
      "execution_count": null,
      "metadata": {
        "id": "PYRfBQDcEvyT",
        "colab": {
          "base_uri": "https://localhost:8080/"
        },
        "outputId": "f2a7d1f1-d9c2-49fd-f42f-fe672d14c4a1"
      },
      "outputs": [
        {
          "output_type": "execute_result",
          "data": {
            "text/plain": [
              "{0: 10.973684210526317, 1: 0.5238693467336684}"
            ]
          },
          "metadata": {},
          "execution_count": 8
        }
      ],
      "source": [
        "# Pesar las clases\n",
        "neg_size = 570\n",
        "ps_size = 11940\n",
        "\n",
        "weight_for_0 = (1 / neg_size) * ( (neg_size + ps_size)/ 2.0)\n",
        "weight_for_1 = (1 / ps_size) * ((neg_size + ps_size)/ 2.0)\n",
        "\n",
        "class_weight = {0: weight_for_0, 1: weight_for_1}\n",
        "class_weight"
      ]
    },
    {
      "cell_type": "code",
      "execution_count": null,
      "metadata": {
        "colab": {
          "base_uri": "https://localhost:8080/"
        },
        "id": "48o2y1d7hVK3",
        "outputId": "392fb14e-5060-4482-f71e-835aa80570d6"
      },
      "outputs": [
        {
          "output_type": "stream",
          "name": "stdout",
          "text": [
            "Question:  b\"I would love to work together with Austria, as I think it would be a very powerful alliance. But I fear I can't stop turkey and Austria from continuing to attack me. Also I'm a little worried about England \\xf0\\x9f\\x98\\xb0.\"\n",
            "Label: 1\n",
            "Question:  b'Sweet. That works fine as long as England follows through'\n",
            "Label: 1\n",
            "Question:  b\"Ah yes, that it's unfortunate\"\n",
            "Label: 1\n",
            "Question:  b'Hi Austria, what are your thoughts on Tyr? Any ideas for opening moves more generally?'\n",
            "Label: 1\n",
            "Question:  b'Sounds good'\n",
            "Label: 1\n",
            "Question:  b'But the board state is giving me a headache'\n",
            "Label: 1\n",
            "Question:  b'wow that did go well!'\n",
            "Label: 1\n",
            "Question:  b\"Ok, that's totally sensible logic.  I may end up having to pass up on Greece and catch it next year.  I can support you into Trieste, if you'd rather have that than retaking Venice, sure.\"\n",
            "Label: 1\n",
            "Question:  b'Hey England how\\xe2\\x80\\x99s it going?'\n",
            "Label: 1\n",
            "Question:  b'Sounds awesome.  Bud S Gal-Vie is coming from my end to help you out.'\n",
            "Label: 1\n"
          ]
        }
      ],
      "source": [
        "# Veamos algunos de los textos\n",
        "for text_batch, label_batch in test_ds.take(1):\n",
        "  for i in range(10):\n",
        "    print(\"Question: \", text_batch.numpy()[i])\n",
        "    print(\"Label:\", label_batch.numpy()[i])"
      ]
    },
    {
      "cell_type": "markdown",
      "source": [
        "---\n",
        "\n",
        "### Seleccion del modelo\n",
        "\n",
        "Con el fin de dar velocidad a los entrenamientos de las diferentes pruebas se selecciona un modelo 'small_bert' junto con su modelo de preprocesamiento.\n",
        "\n",
        "\n",
        "---"
      ],
      "metadata": {
        "id": "7IFAhEu87qRG"
      }
    },
    {
      "cell_type": "code",
      "execution_count": null,
      "metadata": {
        "cellView": "form",
        "colab": {
          "base_uri": "https://localhost:8080/"
        },
        "id": "y8_ctG55-uTX",
        "outputId": "98f50b0a-621f-49f2-ff9e-56c8aafe54cc"
      },
      "outputs": [
        {
          "output_type": "stream",
          "name": "stdout",
          "text": [
            "BERT model selected           : https://tfhub.dev/tensorflow/small_bert/bert_en_uncased_L-2_H-128_A-2/1\n",
            "Preprocess model auto-selected: https://tfhub.dev/tensorflow/bert_en_uncased_preprocess/3\n"
          ]
        }
      ],
      "source": [
        "#@title Choose a BERT model to fine-tune\n",
        "\n",
        "bert_model_name = 'small_bert/bert_en_uncased_L-2_H-128_A-2'  #@param [\"bert_en_uncased_L-12_H-768_A-12\", \"bert_en_cased_L-12_H-768_A-12\", \"bert_multi_cased_L-12_H-768_A-12\", \"small_bert/bert_en_uncased_L-2_H-128_A-2\", \"small_bert/bert_en_uncased_L-2_H-256_A-4\", \"small_bert/bert_en_uncased_L-2_H-512_A-8\", \"small_bert/bert_en_uncased_L-2_H-768_A-12\", \"small_bert/bert_en_uncased_L-4_H-128_A-2\", \"small_bert/bert_en_uncased_L-4_H-256_A-4\", \"small_bert/bert_en_uncased_L-4_H-512_A-8\", \"small_bert/bert_en_uncased_L-4_H-768_A-12\", \"small_bert/bert_en_uncased_L-6_H-128_A-2\", \"small_bert/bert_en_uncased_L-6_H-256_A-4\", \"small_bert/bert_en_uncased_L-6_H-512_A-8\", \"small_bert/bert_en_uncased_L-6_H-768_A-12\", \"small_bert/bert_en_uncased_L-8_H-128_A-2\", \"small_bert/bert_en_uncased_L-8_H-256_A-4\", \"small_bert/bert_en_uncased_L-8_H-512_A-8\", \"small_bert/bert_en_uncased_L-8_H-768_A-12\", \"small_bert/bert_en_uncased_L-10_H-128_A-2\", \"small_bert/bert_en_uncased_L-10_H-256_A-4\", \"small_bert/bert_en_uncased_L-10_H-512_A-8\", \"small_bert/bert_en_uncased_L-10_H-768_A-12\", \"small_bert/bert_en_uncased_L-12_H-128_A-2\", \"small_bert/bert_en_uncased_L-12_H-256_A-4\", \"small_bert/bert_en_uncased_L-12_H-512_A-8\", \"small_bert/bert_en_uncased_L-12_H-768_A-12\", \"albert_en_base\", \"electra_small\", \"electra_base\", \"experts_pubmed\", \"experts_wiki_books\", \"talking-heads_base\"]\n",
        "\n",
        "map_name_to_handle = {\n",
        "    'bert_en_uncased_L-12_H-768_A-12':\n",
        "        'https://tfhub.dev/tensorflow/bert_en_uncased_L-12_H-768_A-12/3',\n",
        "    'bert_en_cased_L-12_H-768_A-12':\n",
        "        'https://tfhub.dev/tensorflow/bert_en_cased_L-12_H-768_A-12/3',\n",
        "    'bert_multi_cased_L-12_H-768_A-12':\n",
        "        'https://tfhub.dev/tensorflow/bert_multi_cased_L-12_H-768_A-12/3',\n",
        "    'small_bert/bert_en_uncased_L-2_H-128_A-2':\n",
        "        'https://tfhub.dev/tensorflow/small_bert/bert_en_uncased_L-2_H-128_A-2/1',\n",
        "    'small_bert/bert_en_uncased_L-2_H-256_A-4':\n",
        "        'https://tfhub.dev/tensorflow/small_bert/bert_en_uncased_L-2_H-256_A-4/1',\n",
        "    'small_bert/bert_en_uncased_L-2_H-512_A-8':\n",
        "        'https://tfhub.dev/tensorflow/small_bert/bert_en_uncased_L-2_H-512_A-8/1',\n",
        "    'small_bert/bert_en_uncased_L-2_H-768_A-12':\n",
        "        'https://tfhub.dev/tensorflow/small_bert/bert_en_uncased_L-2_H-768_A-12/1',\n",
        "    'small_bert/bert_en_uncased_L-4_H-128_A-2':\n",
        "        'https://tfhub.dev/tensorflow/small_bert/bert_en_uncased_L-4_H-128_A-2/1',\n",
        "    'small_bert/bert_en_uncased_L-4_H-256_A-4':\n",
        "        'https://tfhub.dev/tensorflow/small_bert/bert_en_uncased_L-4_H-256_A-4/1',\n",
        "    'small_bert/bert_en_uncased_L-4_H-512_A-8':\n",
        "        'https://tfhub.dev/tensorflow/small_bert/bert_en_uncased_L-4_H-512_A-8/1',\n",
        "    'small_bert/bert_en_uncased_L-4_H-768_A-12':\n",
        "        'https://tfhub.dev/tensorflow/small_bert/bert_en_uncased_L-4_H-768_A-12/1',\n",
        "    'small_bert/bert_en_uncased_L-6_H-128_A-2':\n",
        "        'https://tfhub.dev/tensorflow/small_bert/bert_en_uncased_L-6_H-128_A-2/1',\n",
        "    'small_bert/bert_en_uncased_L-6_H-256_A-4':\n",
        "        'https://tfhub.dev/tensorflow/small_bert/bert_en_uncased_L-6_H-256_A-4/1',\n",
        "    'small_bert/bert_en_uncased_L-6_H-512_A-8':\n",
        "        'https://tfhub.dev/tensorflow/small_bert/bert_en_uncased_L-6_H-512_A-8/1',\n",
        "    'small_bert/bert_en_uncased_L-6_H-768_A-12':\n",
        "        'https://tfhub.dev/tensorflow/small_bert/bert_en_uncased_L-6_H-768_A-12/1',\n",
        "    'small_bert/bert_en_uncased_L-8_H-128_A-2':\n",
        "        'https://tfhub.dev/tensorflow/small_bert/bert_en_uncased_L-8_H-128_A-2/1',\n",
        "    'small_bert/bert_en_uncased_L-8_H-256_A-4':\n",
        "        'https://tfhub.dev/tensorflow/small_bert/bert_en_uncased_L-8_H-256_A-4/1',\n",
        "    'small_bert/bert_en_uncased_L-8_H-512_A-8':\n",
        "        'https://tfhub.dev/tensorflow/small_bert/bert_en_uncased_L-8_H-512_A-8/1',\n",
        "    'small_bert/bert_en_uncased_L-8_H-768_A-12':\n",
        "        'https://tfhub.dev/tensorflow/small_bert/bert_en_uncased_L-8_H-768_A-12/1',\n",
        "    'small_bert/bert_en_uncased_L-10_H-128_A-2':\n",
        "        'https://tfhub.dev/tensorflow/small_bert/bert_en_uncased_L-10_H-128_A-2/1',\n",
        "    'small_bert/bert_en_uncased_L-10_H-256_A-4':\n",
        "        'https://tfhub.dev/tensorflow/small_bert/bert_en_uncased_L-10_H-256_A-4/1',\n",
        "    'small_bert/bert_en_uncased_L-10_H-512_A-8':\n",
        "        'https://tfhub.dev/tensorflow/small_bert/bert_en_uncased_L-10_H-512_A-8/1',\n",
        "    'small_bert/bert_en_uncased_L-10_H-768_A-12':\n",
        "        'https://tfhub.dev/tensorflow/small_bert/bert_en_uncased_L-10_H-768_A-12/1',\n",
        "    'small_bert/bert_en_uncased_L-12_H-128_A-2':\n",
        "        'https://tfhub.dev/tensorflow/small_bert/bert_en_uncased_L-12_H-128_A-2/1',\n",
        "    'small_bert/bert_en_uncased_L-12_H-256_A-4':\n",
        "        'https://tfhub.dev/tensorflow/small_bert/bert_en_uncased_L-12_H-256_A-4/1',\n",
        "    'small_bert/bert_en_uncased_L-12_H-512_A-8':\n",
        "        'https://tfhub.dev/tensorflow/small_bert/bert_en_uncased_L-12_H-512_A-8/1',\n",
        "    'small_bert/bert_en_uncased_L-12_H-768_A-12':\n",
        "        'https://tfhub.dev/tensorflow/small_bert/bert_en_uncased_L-12_H-768_A-12/1',\n",
        "    'albert_en_base':\n",
        "        'https://tfhub.dev/tensorflow/albert_en_base/2',\n",
        "    'electra_small':\n",
        "        'https://tfhub.dev/google/electra_small/2',\n",
        "    'electra_base':\n",
        "        'https://tfhub.dev/google/electra_base/2',\n",
        "    'experts_pubmed':\n",
        "        'https://tfhub.dev/google/experts/bert/pubmed/2',\n",
        "    'experts_wiki_books':\n",
        "        'https://tfhub.dev/google/experts/bert/wiki_books/2',\n",
        "    'talking-heads_base':\n",
        "        'https://tfhub.dev/tensorflow/talkheads_ggelu_bert_en_base/1',\n",
        "}\n",
        "\n",
        "map_model_to_preprocess = {\n",
        "    'bert_en_uncased_L-12_H-768_A-12':\n",
        "        'https://tfhub.dev/tensorflow/bert_en_uncased_preprocess/3',\n",
        "    'bert_en_cased_L-12_H-768_A-12':\n",
        "        'https://tfhub.dev/tensorflow/bert_en_cased_preprocess/3',\n",
        "    'small_bert/bert_en_uncased_L-2_H-128_A-2':\n",
        "        'https://tfhub.dev/tensorflow/bert_en_uncased_preprocess/3',\n",
        "    'small_bert/bert_en_uncased_L-2_H-256_A-4':\n",
        "        'https://tfhub.dev/tensorflow/bert_en_uncased_preprocess/3',\n",
        "    'small_bert/bert_en_uncased_L-2_H-512_A-8':\n",
        "        'https://tfhub.dev/tensorflow/bert_en_uncased_preprocess/3',\n",
        "    'small_bert/bert_en_uncased_L-2_H-768_A-12':\n",
        "        'https://tfhub.dev/tensorflow/bert_en_uncased_preprocess/3',\n",
        "    'small_bert/bert_en_uncased_L-4_H-128_A-2':\n",
        "        'https://tfhub.dev/tensorflow/bert_en_uncased_preprocess/3',\n",
        "    'small_bert/bert_en_uncased_L-4_H-256_A-4':\n",
        "        'https://tfhub.dev/tensorflow/bert_en_uncased_preprocess/3',\n",
        "    'small_bert/bert_en_uncased_L-4_H-512_A-8':\n",
        "        'https://tfhub.dev/tensorflow/bert_en_uncased_preprocess/3',\n",
        "    'small_bert/bert_en_uncased_L-4_H-768_A-12':\n",
        "        'https://tfhub.dev/tensorflow/bert_en_uncased_preprocess/3',\n",
        "    'small_bert/bert_en_uncased_L-6_H-128_A-2':\n",
        "        'https://tfhub.dev/tensorflow/bert_en_uncased_preprocess/3',\n",
        "    'small_bert/bert_en_uncased_L-6_H-256_A-4':\n",
        "        'https://tfhub.dev/tensorflow/bert_en_uncased_preprocess/3',\n",
        "    'small_bert/bert_en_uncased_L-6_H-512_A-8':\n",
        "        'https://tfhub.dev/tensorflow/bert_en_uncased_preprocess/3',\n",
        "    'small_bert/bert_en_uncased_L-6_H-768_A-12':\n",
        "        'https://tfhub.dev/tensorflow/bert_en_uncased_preprocess/3',\n",
        "    'small_bert/bert_en_uncased_L-8_H-128_A-2':\n",
        "        'https://tfhub.dev/tensorflow/bert_en_uncased_preprocess/3',\n",
        "    'small_bert/bert_en_uncased_L-8_H-256_A-4':\n",
        "        'https://tfhub.dev/tensorflow/bert_en_uncased_preprocess/3',\n",
        "    'small_bert/bert_en_uncased_L-8_H-512_A-8':\n",
        "        'https://tfhub.dev/tensorflow/bert_en_uncased_preprocess/3',\n",
        "    'small_bert/bert_en_uncased_L-8_H-768_A-12':\n",
        "        'https://tfhub.dev/tensorflow/bert_en_uncased_preprocess/3',\n",
        "    'small_bert/bert_en_uncased_L-10_H-128_A-2':\n",
        "        'https://tfhub.dev/tensorflow/bert_en_uncased_preprocess/3',\n",
        "    'small_bert/bert_en_uncased_L-10_H-256_A-4':\n",
        "        'https://tfhub.dev/tensorflow/bert_en_uncased_preprocess/3',\n",
        "    'small_bert/bert_en_uncased_L-10_H-512_A-8':\n",
        "        'https://tfhub.dev/tensorflow/bert_en_uncased_preprocess/3',\n",
        "    'small_bert/bert_en_uncased_L-10_H-768_A-12':\n",
        "        'https://tfhub.dev/tensorflow/bert_en_uncased_preprocess/3',\n",
        "    'small_bert/bert_en_uncased_L-12_H-128_A-2':\n",
        "        'https://tfhub.dev/tensorflow/bert_en_uncased_preprocess/3',\n",
        "    'small_bert/bert_en_uncased_L-12_H-256_A-4':\n",
        "        'https://tfhub.dev/tensorflow/bert_en_uncased_preprocess/3',\n",
        "    'small_bert/bert_en_uncased_L-12_H-512_A-8':\n",
        "        'https://tfhub.dev/tensorflow/bert_en_uncased_preprocess/3',\n",
        "    'small_bert/bert_en_uncased_L-12_H-768_A-12':\n",
        "        'https://tfhub.dev/tensorflow/bert_en_uncased_preprocess/3',\n",
        "    'bert_multi_cased_L-12_H-768_A-12':\n",
        "        'https://tfhub.dev/tensorflow/bert_multi_cased_preprocess/3',\n",
        "    'albert_en_base':\n",
        "        'https://tfhub.dev/tensorflow/albert_en_preprocess/3',\n",
        "    'electra_small':\n",
        "        'https://tfhub.dev/tensorflow/bert_en_uncased_preprocess/3',\n",
        "    'electra_base':\n",
        "        'https://tfhub.dev/tensorflow/bert_en_uncased_preprocess/3',\n",
        "    'experts_pubmed':\n",
        "        'https://tfhub.dev/tensorflow/bert_en_uncased_preprocess/3',\n",
        "    'experts_wiki_books':\n",
        "        'https://tfhub.dev/tensorflow/bert_en_uncased_preprocess/3',\n",
        "    'talking-heads_base':\n",
        "        'https://tfhub.dev/tensorflow/bert_en_uncased_preprocess/3',\n",
        "}\n",
        "\n",
        "tfhub_handle_encoder = map_name_to_handle[bert_model_name]\n",
        "tfhub_handle_preprocess = map_model_to_preprocess[bert_model_name]\n",
        "\n",
        "print(f'BERT model selected           : {tfhub_handle_encoder}')\n",
        "print(f'Preprocess model auto-selected: {tfhub_handle_preprocess}')"
      ]
    },
    {
      "cell_type": "code",
      "execution_count": null,
      "metadata": {
        "id": "0SQi-jWd_jzq"
      },
      "outputs": [],
      "source": [
        "bert_preprocess_model = hub.KerasLayer(tfhub_handle_preprocess)"
      ]
    },
    {
      "cell_type": "markdown",
      "metadata": {
        "id": "pDNKfAXbDnJH"
      },
      "source": [
        "\n",
        "\n",
        "---\n",
        "\n",
        "\n",
        "**Define  model**\n",
        "\n",
        "\n",
        "\n",
        "---\n",
        "\n",
        "\n"
      ]
    },
    {
      "cell_type": "code",
      "execution_count": null,
      "metadata": {
        "id": "aksj743St9ga"
      },
      "outputs": [],
      "source": [
        "def build_classifier_model():\n",
        "  text_input = tf.keras.layers.Input(shape=(), dtype=tf.string, name='text') # Capa de entrada\n",
        "  preprocessing_layer = hub.KerasLayer(tfhub_handle_preprocess, name='preprocessing') # Capa Preprocesamiento\n",
        "  encoder_inputs = preprocessing_layer(text_input) # Capa encoder\n",
        "  encoder = hub.KerasLayer(tfhub_handle_encoder, trainable=True, name='BERT_encoder') # Capas del modelo preentrenado\n",
        "  outputs = encoder(encoder_inputs) # Encoder final\n",
        "  net = outputs['pooled_output']\n",
        "  net = tf.keras.layers.Dropout(0.1)(net) # Drop out para evitar sobreajuste\n",
        "  net = tf.keras.layers.Dense(1, activation=None, name='classifier')(net) # Capa final de seleccion de clases\n",
        "  return tf.keras.Model(text_input, net)\n",
        "\n",
        "classifier_model = build_classifier_model()"
      ]
    },
    {
      "cell_type": "markdown",
      "metadata": {
        "id": "WpJ3xcwDT56v"
      },
      "source": [
        "### Funcion de perdida\n",
        "\n",
        "Usaremos una funcion de perdida binaria por ser un problema de clasificacion `losses.BinaryCrossentropy`.\n"
      ]
    },
    {
      "cell_type": "code",
      "execution_count": null,
      "metadata": {
        "id": "OWPOZE-L3AgE"
      },
      "outputs": [],
      "source": [
        "loss = tf.keras.losses.BinaryCrossentropy(from_logits=True)\n",
        "metrics = tf.metrics.BinaryAccuracy()"
      ]
    },
    {
      "cell_type": "markdown",
      "metadata": {
        "id": "77psrpfzbxtp"
      },
      "source": [
        "### Optimizador\n",
        "\n",
        "Desde la documentacion se recomienda usar [AdamW](https://arxiv.org/abs/1711.05101) el cual sera el encargado de optimizar el entrenamiento para llegar a los mejores pesos, ademas se agrega tasa de aprendizaje dinamica, la cual se ajusta a medida que identifica el entrenamietno iniciando con un valor de 3e-5."
      ]
    },
    {
      "cell_type": "code",
      "execution_count": null,
      "metadata": {
        "id": "P9eP2y9dbw32"
      },
      "outputs": [],
      "source": [
        "epochs = 15\n",
        "steps_per_epoch = tf.data.experimental.cardinality(train_ds).numpy()\n",
        "num_train_steps = steps_per_epoch * epochs\n",
        "num_warmup_steps = int(0.1*num_train_steps)\n",
        "\n",
        "init_lr = 3e-5\n",
        "optimizer = optimization.create_optimizer(init_lr=init_lr,\n",
        "                                          num_train_steps=num_train_steps,\n",
        "                                          num_warmup_steps=num_warmup_steps,\n",
        "                                          optimizer_type='adamw')"
      ]
    },
    {
      "cell_type": "code",
      "execution_count": null,
      "metadata": {
        "id": "-7GPDhR98jsD"
      },
      "outputs": [],
      "source": [
        "# Compilacion del modelo\n",
        "classifier_model.compile(optimizer=optimizer,\n",
        "                         loss=loss,\n",
        "                         metrics=metrics)"
      ]
    },
    {
      "cell_type": "markdown",
      "metadata": {
        "id": "-aS-xvAVVQZ1"
      },
      "source": [
        "### Parada temprano y guardado del mejor modelo\n",
        "\n",
        "Ademas de los parametros mostrados en el tutorial, agregamos parametro de parada rapida, encargada de identificar si la metrica de evalucion no cambia durante 4 epocas, el entrenamiento para sin tener que esperar a llegar a las 15 epocas.\n",
        "\n",
        "Por otro lado el guardado del mejor modelo se encargara de guardar unicamente el mejor modelo como un checkpoint permitiendo que independiente de cual sea la metrica de la ultima epoca, se entregue el modelo de mejor metrica."
      ]
    },
    {
      "cell_type": "code",
      "execution_count": null,
      "metadata": {
        "id": "GZXdlR_8VPFv"
      },
      "outputs": [],
      "source": [
        "stop_early = tf.keras.callbacks.EarlyStopping(\n",
        "    monitor = 'val_binary_accuracy',\n",
        "    patience = 4,\n",
        "    restore_best_weights=True)\n",
        "\n",
        "save_best = tf.keras.callbacks.ModelCheckpoint(\n",
        "    './model_train/best_model_diplomacy.weights.h5 ',\n",
        "    monitor=\"val_binary_accuracy\",\n",
        "    verbose=0,\n",
        "    save_best_only=True,\n",
        "    save_weights_only=False,\n",
        "    mode=\"auto\",\n",
        "    save_freq=\"epoch\",\n",
        "    initial_value_threshold=None,\n",
        ")"
      ]
    },
    {
      "cell_type": "markdown",
      "source": [
        "### Inicia el entrenamiento\n",
        "\n",
        "Al dar inicio al entrenamiento se inyectan todos los parametros establecidos previamente, es de resaltar el parametro \"class_weight\" el cual permite tomar el balanceo de las clases que se incorporo al inicio"
      ],
      "metadata": {
        "id": "OhuTK_Zc_Q8k"
      }
    },
    {
      "cell_type": "code",
      "execution_count": null,
      "metadata": {
        "colab": {
          "base_uri": "https://localhost:8080/"
        },
        "id": "HtfDFAnN_Neu",
        "outputId": "a05412ad-fcd1-4b54-ee07-62f8ef46a27a"
      },
      "outputs": [
        {
          "output_type": "stream",
          "name": "stdout",
          "text": [
            "Training model with https://tfhub.dev/tensorflow/small_bert/bert_en_uncased_L-2_H-128_A-2/1\n",
            "Epoch 1/15\n",
            "321/321 [==============================] - 1953s 6s/step - loss: 0.8065 - binary_accuracy: 0.3950 - val_loss: 0.3962 - val_binary_accuracy: 0.7843\n",
            "Epoch 2/15\n",
            "321/321 [==============================] - 153s 477ms/step - loss: 0.7860 - binary_accuracy: 0.4538 - val_loss: 0.3923 - val_binary_accuracy: 0.7586\n",
            "Epoch 3/15\n",
            "321/321 [==============================] - 162s 506ms/step - loss: 0.7606 - binary_accuracy: 0.4833 - val_loss: 0.3619 - val_binary_accuracy: 0.8026\n",
            "Epoch 4/15\n",
            "321/321 [==============================] - 156s 487ms/step - loss: 0.7521 - binary_accuracy: 0.5269 - val_loss: 0.3417 - val_binary_accuracy: 0.8540\n",
            "Epoch 5/15\n",
            "321/321 [==============================] - 154s 479ms/step - loss: 0.7217 - binary_accuracy: 0.5792 - val_loss: 0.4032 - val_binary_accuracy: 0.7256\n",
            "Epoch 6/15\n",
            "321/321 [==============================] - 155s 484ms/step - loss: 0.6869 - binary_accuracy: 0.5951 - val_loss: 0.3505 - val_binary_accuracy: 0.8012\n",
            "Epoch 7/15\n",
            "321/321 [==============================] - 151s 469ms/step - loss: 0.6675 - binary_accuracy: 0.6371 - val_loss: 0.3258 - val_binary_accuracy: 0.8210\n",
            "Epoch 8/15\n",
            "321/321 [==============================] - 152s 474ms/step - loss: 0.6537 - binary_accuracy: 0.6567 - val_loss: 0.3320 - val_binary_accuracy: 0.8107\n"
          ]
        }
      ],
      "source": [
        "print(f'Training model with {tfhub_handle_encoder}')\n",
        "history = classifier_model.fit(x=train_ds,\n",
        "                               validation_data=val_ds,\n",
        "                               epochs=epochs,\n",
        "                               class_weight =class_weight,\n",
        "                               callbacks = [stop_early, save_best])"
      ]
    },
    {
      "cell_type": "markdown",
      "metadata": {
        "id": "uBthMlTSV8kn"
      },
      "source": [
        "### Evaluacion del modelo\n",
        "\n",
        "El entrenamiento del modedelo final tardo aproximandamente una hora parando en la epoca numero 8 debido al parado temprano pues desde la epoca 4 no se noto mejoria en la metrica de evaluacion.\n",
        "\n",
        "Para evaluar el modelo y poder compara con los resultados de [ACL’20 paper (Peskov et al.).](https://users.umiacs.umd.edu/~jbg/docs/2020_acl_diplomacy.pdf) es necesario usar la metrica F1 score y prestar mayor atencion a la clase \"False\""
      ]
    },
    {
      "cell_type": "code",
      "execution_count": null,
      "metadata": {
        "colab": {
          "base_uri": "https://localhost:8080/"
        },
        "id": "slqB-urBV9sP",
        "outputId": "db3ab9c6-6bf2-4363-c089-fa299b67c537"
      },
      "outputs": [
        {
          "output_type": "stream",
          "name": "stdout",
          "text": [
            "86/86 [==============================] - 67s 786ms/step - loss: 0.3714 - binary_accuracy: 0.8431\n",
            "Loss: 0.3714263141155243\n",
            "Accuracy: 0.8431229591369629\n"
          ]
        }
      ],
      "source": [
        "loss, accuracy = classifier_model.evaluate(test_ds)\n",
        "\n",
        "print(f'Loss: {loss}')\n",
        "print(f'Accuracy: {accuracy}')"
      ]
    },
    {
      "cell_type": "code",
      "execution_count": null,
      "metadata": {
        "id": "59AzBZXmKY8m"
      },
      "outputs": [],
      "source": [
        "import numpy as np\n",
        "from sklearn.metrics import confusion_matrix, ConfusionMatrixDisplay, classification_report\n",
        "from sklearn.metrics import f1_score"
      ]
    },
    {
      "cell_type": "code",
      "execution_count": null,
      "metadata": {
        "colab": {
          "base_uri": "https://localhost:8080/"
        },
        "id": "M13Qwbhn9NNq",
        "outputId": "6639bf95-a8af-4f88-8fcb-22f47ce5f7f1"
      },
      "outputs": [
        {
          "output_type": "stream",
          "name": "stdout",
          "text": [
            "86/86 [==============================] - 10s 114ms/step\n"
          ]
        }
      ],
      "source": [
        "y_true = np.concatenate([y.numpy() for _, y in test_ds])\n",
        "ypredict1 = classifier_model.predict(test_ds)"
      ]
    },
    {
      "cell_type": "code",
      "execution_count": null,
      "metadata": {
        "id": "ypKth563J5aJ"
      },
      "outputs": [],
      "source": [
        "y_pred = (ypredict1 > 0.5).astype(int)"
      ]
    },
    {
      "cell_type": "code",
      "execution_count": null,
      "metadata": {
        "colab": {
          "base_uri": "https://localhost:8080/",
          "height": 472
        },
        "id": "VVAiJ5jsKPob",
        "outputId": "f07041ee-5c0f-4738-c53b-ed3811e87482"
      },
      "outputs": [
        {
          "output_type": "execute_result",
          "data": {
            "text/plain": [
              "<sklearn.metrics._plot.confusion_matrix.ConfusionMatrixDisplay at 0x7e5d568731c0>"
            ]
          },
          "metadata": {},
          "execution_count": 25
        },
        {
          "output_type": "display_data",
          "data": {
            "text/plain": [
              "<Figure size 640x480 with 2 Axes>"
            ],
            "image/png": "[encoded data removed]"
          },
          "metadata": {}
        }
      ],
      "source": [
        "con = confusion_matrix(y_true, y_pred )\n",
        "ConfusionMatrixDisplay(con, display_labels=[\"False\", 'True']).plot()"
      ]
    },
    {
      "cell_type": "code",
      "execution_count": null,
      "metadata": {
        "id": "6IUn9G8aKcle",
        "colab": {
          "base_uri": "https://localhost:8080/"
        },
        "outputId": "78ddc25e-0fed-4b4c-a997-0b5f90f4eab9"
      },
      "outputs": [
        {
          "output_type": "stream",
          "name": "stdout",
          "text": [
            "--------------------------------------------------------------------------------\n",
            "F1 score por clase = [0.22101449 0.9127789 ]\n",
            "--------------------------------------------------------------------------------\n",
            "F1 Score Macro = 0.5668966987094688\n",
            "--------------------------------------------------------------------------------\n"
          ]
        }
      ],
      "source": [
        "f1_score_evaluation = f1_score(y_true, y_pred,average=None)\n",
        "f1_score_macro = f1_score(y_true, y_pred,average='macro')\n",
        "\n",
        "print('--'*40)\n",
        "print(\"F1 score por clase = {}\".format(f1_score_evaluation))\n",
        "print('--'*40)\n",
        "print(\"F1 Score Macro = {}\".format(f1_score_macro))\n",
        "print('--'*40)"
      ]
    },
    {
      "cell_type": "code",
      "execution_count": null,
      "metadata": {
        "colab": {
          "base_uri": "https://localhost:8080/"
        },
        "id": "MyaN-EA6rjsF",
        "outputId": "085589b9-f4e5-430c-bff7-0a83584124c5"
      },
      "outputs": [
        {
          "output_type": "stream",
          "name": "stdout",
          "text": [
            "              precision    recall  f1-score   support\n",
            "\n",
            "           0       0.20      0.25      0.22       240\n",
            "           1       0.93      0.90      0.91      2501\n",
            "\n",
            "    accuracy                           0.84      2741\n",
            "   macro avg       0.56      0.58      0.57      2741\n",
            "weighted avg       0.86      0.84      0.85      2741\n",
            "\n"
          ]
        }
      ],
      "source": [
        "print(classification_report(y_true, y_pred))"
      ]
    },
    {
      "cell_type": "code",
      "execution_count": null,
      "metadata": {
        "colab": {
          "base_uri": "https://localhost:8080/",
          "height": 599
        },
        "id": "fiythcODf0xo",
        "outputId": "2bb98e07-d931-4fb7-daa9-df8662431390"
      },
      "outputs": [
        {
          "output_type": "stream",
          "name": "stdout",
          "text": [
            "dict_keys(['loss', 'binary_accuracy', 'val_loss', 'val_binary_accuracy'])\n"
          ]
        },
        {
          "output_type": "execute_result",
          "data": {
            "text/plain": [
              "<matplotlib.legend.Legend at 0x7e5d55b4cbb0>"
            ]
          },
          "metadata": {},
          "execution_count": 27
        },
        {
          "output_type": "display_data",
          "data": {
            "text/plain": [
              "<Figure size 1000x600 with 2 Axes>"
            ],
            "image/png": "[encoded data removed]"
          },
          "metadata": {}
        }
      ],
      "source": [
        "history_dict = history.history\n",
        "print(history_dict.keys())\n",
        "\n",
        "acc = history_dict['binary_accuracy']\n",
        "val_acc = history_dict['val_binary_accuracy']\n",
        "loss = history_dict['loss']\n",
        "val_loss = history_dict['val_loss']\n",
        "\n",
        "epochs = range(1, len(acc) + 1)\n",
        "fig = plt.figure(figsize=(10, 6))\n",
        "fig.tight_layout()\n",
        "\n",
        "plt.subplot(2, 1, 1)\n",
        "# r is for \"solid red line\"\n",
        "plt.plot(epochs, loss, 'r', label='Training loss')\n",
        "# b is for \"solid blue line\"\n",
        "plt.plot(epochs, val_loss, 'b', label='Validation loss')\n",
        "plt.title('Training and validation loss')\n",
        "# plt.xlabel('Epochs')\n",
        "plt.ylabel('Loss')\n",
        "plt.legend()\n",
        "\n",
        "plt.subplot(2, 1, 2)\n",
        "plt.plot(epochs, acc, 'r', label='Training acc')\n",
        "plt.plot(epochs, val_acc, 'b', label='Validation acc')\n",
        "plt.title('Training and validation accuracy')\n",
        "plt.xlabel('Epochs')\n",
        "plt.ylabel('Accuracy')\n",
        "plt.legend(loc='lower right')"
      ]
    },
    {
      "cell_type": "markdown",
      "source": [
        "## Conclusiones finales\n",
        "\n",
        "Se puede ver que el valor del F1 score para los textos clasificados como mentira, es de 22 lo cual de forma general no es bueno, sin embargo, es aproximado a la linea base.\n",
        "\n",
        "![image.png](data:image/png;base64,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)"
      ],
      "metadata": {
        "id": "PWHJ77MYEg9g"
      }
    },
    {
      "cell_type": "markdown",
      "source": [
        "Como se puede ver para el lie F1 los mejores resultados son 27, 24.6, 23.7, y 22.5 por lo tanto el modelo se aproxima a los primeros 4 mejores resultados con un F1 Macro de 0.56.\n",
        "\n",
        "Por otro lado desde la curva de aprendizaje de identifica que el entrenamiento podria mejorar con mas epocas, sin embargo, esto implicaria un mayor costo computacional"
      ],
      "metadata": {
        "id": "v9EVQ8YGFHjO"
      }
    },
    {
      "cell_type": "markdown",
      "metadata": {
        "id": "Rtn7jewb6dg4"
      },
      "source": [
        "## Exportar el modelo\n",
        "\n",
        "Exportamos el modelo para poderlo usar en futuras inferencias"
      ]
    },
    {
      "cell_type": "code",
      "execution_count": null,
      "metadata": {
        "id": "ShcvqJAgVera"
      },
      "outputs": [],
      "source": [
        "dataset_name = 'dyplomacy'\n",
        "saved_model_path = './{}_bert'.format(dataset_name.replace('/', '_'))"
      ]
    },
    {
      "cell_type": "code",
      "execution_count": null,
      "metadata": {
        "id": "EtSf7dizoxbf",
        "colab": {
          "base_uri": "https://localhost:8080/"
        },
        "outputId": "5d52ba70-976d-44ff-9d78-fc7ff56f838d"
      },
      "outputs": [
        {
          "output_type": "stream",
          "name": "stdout",
          "text": [
            "Model: \"model\"\n",
            "__________________________________________________________________________________________________\n",
            " Layer (type)                Output Shape                 Param #   Connected to                  \n",
            "==================================================================================================\n",
            " text (InputLayer)           [(None,)]                    0         []                            \n",
            "                                                                                                  \n",
            " preprocessing (KerasLayer)  {'input_mask': (None, 128)   0         ['text[0][0]']                \n",
            "                             , 'input_type_ids': (None,                                           \n",
            "                              128),                                                               \n",
            "                              'input_word_ids': (None,                                            \n",
            "                             128)}                                                                \n",
            "                                                                                                  \n",
            " BERT_encoder (KerasLayer)   {'pooled_output': (None, 1   4385921   ['preprocessing[0][0]',       \n",
            "                             28),                                    'preprocessing[0][1]',       \n",
            "                              'encoder_outputs': [(None              'preprocessing[0][2]']       \n",
            "                             , 128, 128),                                                         \n",
            "                              (None, 128, 128)],                                                  \n",
            "                              'sequence_output': (None,                                           \n",
            "                              128, 128),                                                          \n",
            "                              'default': (None, 128)}                                             \n",
            "                                                                                                  \n",
            " dropout (Dropout)           (None, 128)                  0         ['BERT_encoder[0][3]']        \n",
            "                                                                                                  \n",
            " classifier (Dense)          (None, 1)                    129       ['dropout[0][0]']             \n",
            "                                                                                                  \n",
            "==================================================================================================\n",
            "Total params: 4386050 (16.73 MB)\n",
            "Trainable params: 4386049 (16.73 MB)\n",
            "Non-trainable params: 1 (1.00 Byte)\n",
            "__________________________________________________________________________________________________\n",
            "None\n"
          ]
        }
      ],
      "source": [
        "from tensorflow import keras\n",
        "new_model = keras.models.load_model(saved_model_path)\n",
        "print(new_model.summary())"
      ]
    },
    {
      "cell_type": "code",
      "execution_count": null,
      "metadata": {
        "id": "UVd2tU8ibaXW"
      },
      "outputs": [],
      "source": [
        "classifier_model.save(saved_model_path, include_optimizer=False)"
      ]
    },
    {
      "cell_type": "code",
      "execution_count": null,
      "metadata": {
        "id": "gUEWVskZjEF0"
      },
      "outputs": [],
      "source": [
        "reloaded_model = tf.saved_model.load(saved_model_path)"
      ]
    },
    {
      "cell_type": "code",
      "execution_count": null,
      "metadata": {
        "colab": {
          "base_uri": "https://localhost:8080/"
        },
        "id": "VBWzH6exlCPS",
        "outputId": "7ffec1b2-efc4-4e78-8382-a82369559231"
      },
      "outputs": [
        {
          "output_type": "stream",
          "name": "stdout",
          "text": [
            "Results from the saved model:\n",
            "input: this is such an amazing movie! : score: 0.874756\n",
            "input: The movie was great!           : score: 0.895276\n",
            "input: The movie was meh.             : score: 0.840765\n",
            "input: The movie was okish.           : score: 0.869268\n",
            "input: The movie was terrible...      : score: 0.797412\n",
            "\n",
            "Results from the model in memory:\n",
            "input: this is such an amazing movie! : score: 0.874756\n",
            "input: The movie was great!           : score: 0.895276\n",
            "input: The movie was meh.             : score: 0.840765\n",
            "input: The movie was okish.           : score: 0.869268\n",
            "input: The movie was terrible...      : score: 0.797412\n",
            "\n"
          ]
        }
      ],
      "source": [
        "def print_my_examples(inputs, results):\n",
        "  result_for_printing = \\\n",
        "    [f'input: {inputs[i]:<30} : score: {results[i][0]:.6f}'\n",
        "                         for i in range(len(inputs))]\n",
        "  print(*result_for_printing, sep='\\n')\n",
        "  print()\n",
        "\n",
        "\n",
        "examples = [\n",
        "    'this is such an amazing movie!',  # this is the same sentence tried earlier\n",
        "    'The movie was great!',\n",
        "    'The movie was meh.',\n",
        "    'The movie was okish.',\n",
        "    'The movie was terrible...'\n",
        "]\n",
        "\n",
        "reloaded_results = tf.sigmoid(reloaded_model(tf.constant(examples)))\n",
        "original_results = tf.sigmoid(classifier_model(tf.constant(examples)))\n",
        "\n",
        "print('Results from the saved model:')\n",
        "print_my_examples(examples, reloaded_results)\n",
        "print('Results from the model in memory:')\n",
        "print_my_examples(examples, original_results)"
      ]
    }
  ],
  "metadata": {
    "accelerator": "GPU",
    "colab": {
      "provenance": []
    },
    "kernelspec": {
      "display_name": "Python 3",
      "name": "python3"
    },
    "language_info": {
      "name": "python"
    }
  },
  "nbformat": 4,
  "nbformat_minor": 0
}