{
  "nbformat": 4,
  "nbformat_minor": 0,
  "metadata": {
    "colab": {
      "provenance": []
    },
    "kernelspec": {
      "name": "python3",
      "display_name": "Python 3"
    },
    "language_info": {
      "name": "python"
    }
  },
  "cells": [
    {
      "cell_type": "markdown",
      "source": [
        "## Preprocesamiento de datos Diplomacy\n",
        "\n",
        "A continuación se presentan los analisis y prepraracion de los datos para realizar el entrenamiento de un modelo tipo *Transformer* con la arquitectura de BERT.\n",
        "\n",
        "En este notebook se realiza el preprocesamiento de los datos recibiendo como entrada el dataset tomado de [Dataset Diplomacy Github](https://github.com/DenisPeskoff/2020_acl_diplomacy) el cual se guarda en una carpeta de one drive como jsonl y se transformara al formato necesario como se indica en [Tutorial entrenamiento de Bert Fine Tuning](https://www.tensorflow.org/tfmodels/nlp/fine_tune_bert)\n",
        "\n",
        "El resultado de este notebook sera la version final del dataset listo para ser entrergado al notebook de entrenamiento.\n"
      ],
      "metadata": {
        "id": "kmAI7AX0WuVQ"
      }
    },
    {
      "cell_type": "code",
      "execution_count": null,
      "metadata": {
        "id": "D7HAqdSFdawS",
        "colab": {
          "base_uri": "https://localhost:8080/"
        },
        "outputId": "c58578df-565a-43ca-8d34-c04c19631e3f"
      },
      "outputs": [
        {
          "output_type": "stream",
          "name": "stdout",
          "text": [
            "Mounted at /content/drive\n"
          ]
        }
      ],
      "source": [
        "#Connecting to the drive\n",
        "from google.colab import drive\n",
        "drive.mount('/content/drive')"
      ]
    },
    {
      "cell_type": "code",
      "source": [
        "#Current path\n",
        "%cd /content/drive/Shareddrives/PRUEBAS_BANCOLOMBIA_SMITH/Prueba practica\n",
        "!pwd"
      ],
      "metadata": {
        "id": "QcMKXAc32ofo",
        "colab": {
          "base_uri": "https://localhost:8080/"
        },
        "outputId": "e4d81a8c-0a9d-4b57-c68e-397e89740d53"
      },
      "execution_count": null,
      "outputs": [
        {
          "output_type": "stream",
          "name": "stdout",
          "text": [
            "/content/drive/Shareddrives/PRUEBAS_BANCOLOMBIA_SMITH/Prueba practica\n",
            "/content/drive/Shareddrives/PRUEBAS_BANCOLOMBIA_SMITH/Prueba practica\n"
          ]
        }
      ]
    },
    {
      "cell_type": "code",
      "source": [
        "!ls"
      ],
      "metadata": {
        "colab": {
          "base_uri": "https://localhost:8080/"
        },
        "id": "vU3kBSm-Xhn3",
        "outputId": "4dc92994-d8b2-4abf-837b-517277ce0688"
      },
      "execution_count": null,
      "outputs": [
        {
          "output_type": "stream",
          "name": "stdout",
          "text": [
            " dataset\t\t ds_format_beto.zip   files\t\t      requeriments.txt\n",
            " diplomacy_format_beto\t dyplomacy_bert      'Prueba Practica.docx'\n"
          ]
        }
      ]
    },
    {
      "cell_type": "code",
      "source": [
        "!pip install jsonlines"
      ],
      "metadata": {
        "colab": {
          "base_uri": "https://localhost:8080/"
        },
        "id": "0W453gPYaiWU",
        "outputId": "ba8510c4-787e-4a4a-b358-89c6423abf8c"
      },
      "execution_count": null,
      "outputs": [
        {
          "output_type": "stream",
          "name": "stdout",
          "text": [
            "Collecting jsonlines\n",
            "  Downloading jsonlines-4.0.0-py3-none-any.whl (8.7 kB)\n",
            "Requirement already satisfied: attrs>=19.2.0 in /usr/local/lib/python3.10/dist-packages (from jsonlines) (23.1.0)\n",
            "Installing collected packages: jsonlines\n",
            "Successfully installed jsonlines-4.0.0\n"
          ]
        }
      ]
    },
    {
      "cell_type": "code",
      "source": [
        "path_test = r'./dataset/test.jsonl'\n",
        "path_train = r'./dataset/train.jsonl'\n",
        "path_val = r'./dataset/validation.jsonl'"
      ],
      "metadata": {
        "id": "_8ofpWQzaMfb"
      },
      "execution_count": null,
      "outputs": []
    },
    {
      "cell_type": "code",
      "source": [
        "import jsonlines\n",
        "import pandas as  pd\n",
        "import matplotlib.pyplot as plt\n",
        "import seaborn as sns"
      ],
      "metadata": {
        "id": "wKbu8KXIX2zq"
      },
      "execution_count": null,
      "outputs": []
    },
    {
      "cell_type": "code",
      "source": [
        "# Cargamos los mismos sets de datos para test, train y validacion\n",
        "\n",
        "def data_load(path):\n",
        "  with jsonlines.open(path, 'r') as reader:\n",
        "   list_reader = list(reader)\n",
        "   list_messages = []\n",
        "   list_label = []\n",
        "   for sample in list_reader:\n",
        "    list_messages.append(sample['messages'])\n",
        "    list_label.append(sample['sender_labels'])\n",
        "\n",
        "  dict_out = {'messages':list_messages, 'labels': list_label}\n",
        "  df_out = pd.DataFrame(dict_out)\n",
        "  df_out = df_out.explode(['messages','labels'],ignore_index=True)\n",
        "  return df_out\n",
        "\n",
        "test_raw = data_load(path_test)\n",
        "train_raw = data_load(path_train)\n",
        "val_raw = data_load(path_val)"
      ],
      "metadata": {
        "id": "fkka-p3YXtB4"
      },
      "execution_count": null,
      "outputs": []
    },
    {
      "cell_type": "code",
      "source": [
        "print(\"cantidad de datos de entrenamiento\" ,train_raw.shape[0])\n",
        "print(\"cantidad de datos de validacion\" ,val_raw.shape[0])\n",
        "print(\"cantidad de datos de test\" ,test_raw.shape[0])"
      ],
      "metadata": {
        "colab": {
          "base_uri": "https://localhost:8080/"
        },
        "id": "_NMui9E3XtEo",
        "outputId": "f62fed92-2271-4ce2-b88f-ace6ba3b4b5e"
      },
      "execution_count": null,
      "outputs": [
        {
          "output_type": "stream",
          "name": "stdout",
          "text": [
            "cantidad de datos de entrenamiento 13137\n",
            "cantidad de datos de validacion 1417\n",
            "cantidad de datos de test 2741\n"
          ]
        }
      ]
    },
    {
      "cell_type": "code",
      "source": [
        "na_train = train_raw[train_raw.isna().any(axis=1)]\n",
        "na_val = val_raw[val_raw.isna().any(axis=1)]\n",
        "na_test = test_raw[test_raw.isna().any(axis=1)]\n",
        "\n",
        "print(\"cantidad de datos vacios de entrenamiento\" ,na_train.shape[0])\n",
        "print(\"cantidad de datos vacios de validacion\" ,na_val.shape[0])\n",
        "print(\"cantidad de datos vacios de test\" ,na_test.shape[0])\n",
        "\n",
        "print(\"Como la cantidad de datos nulos es poca podremos eliminarlos sin perder infromacion relevante \")\n",
        "\n",
        "train_raw.dropna(inplace = True)\n",
        "val_raw.dropna(inplace = True)\n",
        "test_raw.dropna(inplace = True)"
      ],
      "metadata": {
        "colab": {
          "base_uri": "https://localhost:8080/"
        },
        "id": "bgW6k5ITXtLj",
        "outputId": "d07ecdd0-8e84-48da-f6a7-9ee9cc97dde2"
      },
      "execution_count": null,
      "outputs": [
        {
          "output_type": "stream",
          "name": "stdout",
          "text": [
            "cantidad de datos vacios de entrenamiento 5\n",
            "cantidad de datos vacios de validacion 1\n",
            "cantidad de datos vacios de test 0\n",
            "Como la cantidad de datos nulos es poca podremos eliminarlos sin perder infromacion relevante \n"
          ]
        }
      ]
    },
    {
      "cell_type": "code",
      "source": [
        "# Dado que algunos textos tienen longitud menor a 10 caracteres, no aportaran informacion suficiente al modelo\n",
        "train_raw = train_raw[train_raw['messages'].str.len()>=10]\n",
        "val_raw = val_raw[val_raw['messages'].str.len()>=10]"
      ],
      "metadata": {
        "id": "6ucpP7CZ8beA"
      },
      "execution_count": null,
      "outputs": []
    },
    {
      "cell_type": "code",
      "source": [
        "# Veamos la distribucion por clases\n",
        "\n",
        "fig, axes = plt.subplots(nrows=1, ncols=3, figsize=(10, 4))\n",
        "\n",
        "sns.countplot(x='labels', data=train_raw, ax= axes [0] ,palette='Set1')\n",
        "sns.countplot(x='labels', data=val_raw, ax= axes [1] ,palette='Set2')\n",
        "sns.countplot(x='labels', data=test_raw, ax= axes [2] ,palette='Set3')\n",
        "\n",
        "axes[0].set_title(\"Entrenamiento\")\n",
        "axes[1].set_title(\"Validacion\")\n",
        "axes[2].set_title(\"Test\")\n",
        "\n",
        "plt.tight_layout()\n",
        "plt.show()"
      ],
      "metadata": {
        "colab": {
          "base_uri": "https://localhost:8080/",
          "height": 360
        },
        "id": "-NHqaagGoYYr",
        "outputId": "5e1394d9-1f03-44b2-9ac2-70e2f9dae042"
      },
      "execution_count": null,
      "outputs": [
        {
          "output_type": "display_data",
          "data": {
            "text/plain": [
              "<Figure size 1000x400 with 3 Axes>"
            ],
            "image/png": "[encoded data removed]"
          },
          "metadata": {}
        }
      ]
    },
    {
      "cell_type": "code",
      "source": [
        "path_train_true = r'./dataset/ds_format_beto/train/True/'\n",
        "path_train_false = r'./dataset/ds_format_beto/train/False/'\n",
        "\n",
        "path_val_true = r'./dataset/ds_format_beto/validation/True/'\n",
        "path_val_false = r'./dataset/ds_format_beto/validation/False/'\n",
        "\n",
        "path_test_true = r'./dataset/ds_format_beto/test/True/'\n",
        "path_test_false = r'./dataset/ds_format_beto/test/False/'"
      ],
      "metadata": {
        "id": "pRJY4JKzIEEY"
      },
      "execution_count": null,
      "outputs": []
    },
    {
      "cell_type": "code",
      "source": [
        "train_raw['messages'][0]"
      ],
      "metadata": {
        "colab": {
          "base_uri": "https://localhost:8080/",
          "height": 105
        },
        "id": "0fAVVr5YIEIR",
        "outputId": "57339a3b-3d79-4501-cd8c-8ec8bb1a5b3e"
      },
      "execution_count": null,
      "outputs": [
        {
          "output_type": "execute_result",
          "data": {
            "text/plain": [
              "'Germany!\\n\\nJust the person I want to speak with. I have a somewhat crazy idea that I’ve always wanted to try with I/G, but I’ve never actually convinced the other guy to try it. And, what’s worse, it might make you suspicious of me. \\n\\nSo...do I suggest it?\\n\\nI’m thinking that this is a low stakes game, not a tournament or anything, and an interesting and unusual move set might make it more fun? That’s my hope anyway.\\n\\nWhat is your appetite like for unusual and crazy?'"
            ],
            "application/vnd.google.colaboratory.intrinsic+json": {
              "type": "string"
            }
          },
          "metadata": {},
          "execution_count": 141
        }
      ]
    },
    {
      "cell_type": "code",
      "source": [
        "def creator_text(data_frame,path):\n",
        "  for sample in data_frame.index:\n",
        "    index = sample\n",
        "    with open(path + 'text_' + str(index) + '.txt', 'w') as f:\n",
        "        f.write(data_frame['messages'][index])\n",
        "\n",
        "  return print(\"Create all samples on \" , path)"
      ],
      "metadata": {
        "id": "B1NZdI2RIELn"
      },
      "execution_count": null,
      "outputs": []
    },
    {
      "cell_type": "markdown",
      "source": [
        "### Generamos los respectivos archivos encargados para los datos de train, test y validacion"
      ],
      "metadata": {
        "id": "dGqoZzIdwbwN"
      }
    },
    {
      "cell_type": "code",
      "source": [
        "creator_text(test_raw[test_raw['labels']==True],path_test_true)"
      ],
      "metadata": {
        "colab": {
          "base_uri": "https://localhost:8080/"
        },
        "id": "SQqCHEdzPmyb",
        "outputId": "e2f1f4a0-46b3-460c-8949-a2a36bd935cf"
      },
      "execution_count": null,
      "outputs": [
        {
          "output_type": "stream",
          "name": "stdout",
          "text": [
            "Create all samples on  ./dataset/ds_format_beto/test/True/\n"
          ]
        }
      ]
    },
    {
      "cell_type": "code",
      "source": [
        "creator_text(test_raw[test_raw['labels']==False],path_test_false)"
      ],
      "metadata": {
        "colab": {
          "base_uri": "https://localhost:8080/"
        },
        "id": "BqZ1ikWqPm5x",
        "outputId": "8d2fc74d-c093-43b9-a6d1-ecf45d5a06f1"
      },
      "execution_count": null,
      "outputs": [
        {
          "output_type": "stream",
          "name": "stdout",
          "text": [
            "Create all samples on  ./dataset/ds_format_beto/test/False/\n"
          ]
        }
      ]
    },
    {
      "cell_type": "code",
      "source": [
        "creator_text(train_raw[train_raw['labels']==True],path_train_true)"
      ],
      "metadata": {
        "colab": {
          "base_uri": "https://localhost:8080/"
        },
        "id": "QpWjtr5FM1Ld",
        "outputId": "f3d37832-cc5d-4acc-ac50-4144acabf018"
      },
      "execution_count": null,
      "outputs": [
        {
          "output_type": "stream",
          "name": "stdout",
          "text": [
            "Create all samples on  ./dataset/ds_format_beto/train/True/\n"
          ]
        }
      ]
    },
    {
      "cell_type": "code",
      "source": [
        "creator_text(train_raw[train_raw['labels']==False],path_train_false)"
      ],
      "metadata": {
        "colab": {
          "base_uri": "https://localhost:8080/"
        },
        "id": "VliwcnKfNSFK",
        "outputId": "5a597a64-a737-44f2-ff89-9778094fed72"
      },
      "execution_count": null,
      "outputs": [
        {
          "output_type": "stream",
          "name": "stdout",
          "text": [
            "Create all samples on  ./dataset/ds_format_beto/train/False/\n"
          ]
        }
      ]
    },
    {
      "cell_type": "code",
      "source": [
        "creator_text(val_raw[val_raw['labels']==True],path_val_true)"
      ],
      "metadata": {
        "colab": {
          "base_uri": "https://localhost:8080/"
        },
        "id": "6vE9lGrfIEOj",
        "outputId": "8f06a513-0eb6-42bf-a44b-663722daed7b"
      },
      "execution_count": null,
      "outputs": [
        {
          "output_type": "stream",
          "name": "stdout",
          "text": [
            "Create all samples on  ./dataset/ds_format_beto/validation/True/\n"
          ]
        }
      ]
    },
    {
      "cell_type": "code",
      "source": [
        "creator_text(val_raw[val_raw['labels']==False],path_val_false)"
      ],
      "metadata": {
        "colab": {
          "base_uri": "https://localhost:8080/"
        },
        "id": "3IAXCSWpIETR",
        "outputId": "6c7dd348-5e98-41c6-9ea6-c0020dae08e4"
      },
      "execution_count": null,
      "outputs": [
        {
          "output_type": "stream",
          "name": "stdout",
          "text": [
            "Create all samples on  ./dataset/ds_format_beto/validation/False/\n"
          ]
        }
      ]
    },
    {
      "cell_type": "code",
      "source": [
        "#!zip -r test.zip ./dataset/ds_format_beto/test"
      ],
      "metadata": {
        "id": "u3CDBfXFPUuX"
      },
      "execution_count": null,
      "outputs": []
    },
    {
      "cell_type": "code",
      "source": [
        "#!unzip ./diplomacy_format_beto/test.zip"
      ],
      "metadata": {
        "id": "9A8ExMHLSko3"
      },
      "execution_count": null,
      "outputs": []
    }
  ]
}